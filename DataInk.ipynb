{
 "cells": [
  {
   "cell_type": "markdown",
   "metadata": {},
   "source": [
    "**In this notebook, we'll explore how we can communicate the nuanced narrative of gender gap in STEM (science, technology, engineering, and mathematics) fields in the United States using effective data visualization.**"
   ]
  },
  {
   "cell_type": "markdown",
   "metadata": {},
   "source": [
    "Let's first generate a standard matplotlib plot\n",
    "\n",
    "* Generate a line chart that visualizes the historical percentage of Biology degrees awarded to women:\n",
    "    * Set the x-axis to the `Year` column from `women_degrees`.\n",
    "    * Set the y-axis to the `Biology` column from `women_degrees`.\n",
    "* Display the plot."
   ]
  },
  {
   "cell_type": "code",
   "execution_count": 5,
   "metadata": {},
   "outputs": [],
   "source": [
    "import pandas as pd\n",
    "import matplotlib.pyplot as plt\n"
   ]
  },
  {
   "cell_type": "code",
   "execution_count": 6,
   "metadata": {},
   "outputs": [],
   "source": [
    "# Write your code here\n",
    "\n"
   ]
  },
  {
   "cell_type": "markdown",
   "metadata": {},
   "source": [
    "From the plot, we can tell that Biology degrees increased steadily from 1970 and peaked in the early 2000's. We can also tell that the percentage has stayed above 50% since around 1987. While it's helpful to visualize the trend of Biology degrees awarded to women, it only tells half the story. If we want the gender gap to be apparent and emphasized in the plot, we need a visual analogy to the difference in the percentages between the genders.\n",
    "\n",
    "If we visualize the trend of Biology degrees awarded to men on the same plot, a viewer can observe the space between the lines for each gender. We can calculate the percentages of Biology degrees awarded to men by subtracting each value in the `Biology` column from `100`. Once we have the male percentages, we can generate two line charts as part of the same diagram.\n",
    "\n",
    "Let's now create a diagram containing both the line charts we just described."
   ]
  },
  {
   "cell_type": "code",
   "execution_count": 10,
   "metadata": {},
   "outputs": [],
   "source": [
    "# Write your code here.\n",
    "\n",
    "# starter_code\n",
    "# men_degrees_b = 100 - women_degrees['Biology'] (Select ctrl + / (PC) or ⌘ + / (Mac) to uncomment this line)"
   ]
  },
  {
   "cell_type": "markdown",
   "metadata": {},
   "source": [
    "The chart containing both line charts tells a more complete story than the one containing just the line chart that visualized just the women percentages. This plot instead tells the story of two distinct periods. In the first period, from 1970 to around 1987, women were a minority when it came to majoring in Biology while in the second period, from around 1987 to around 2012, women became a majority. You can see the point where women overtook men where the lines intersect. While a viewer could have reached the same conclusions using the individual line chart of just the women percentages, it would have required more effort and mental processing on their part.\n",
    "\n",
    "Although our plot is better, it still contains some extra visual elements that aren't necessary to understand the data. We're interested in helping people understand the gender gap in different fields across time. These excess elements, sometimes known as **chartjunk**, increase as we add more plots for visualizing the other degrees, making it harder for anyone trying to interpret our charts. In general, we want to maximize the **data-ink ratio**, which is the fractional amount of the plotting area dedicated to displaying the data.\n",
    "\n",
    "The following is an animated GIF by [**Darkhorse Analytics**](https://www.darkhorseanalytics.com/blog/data-looks-better-naked) that shows a series of tweaks for boosting the data-ink ratio:"
   ]
  },
  {
   "cell_type": "markdown",
   "metadata": {},
   "source": [
    "To customize the appearance of the ticks, we use the [**Axes.tick_params()**](http://matplotlib.org/api/axes_api.html#matplotlib.axes.Axes.tick_params) method. Using this method, we can modify which tick marks and tick labels are displayed. By default, matplotlib displays the tick marks on all four sides of the plot. Here are the four sides for a standard line chart:\n",
    "\n",
    "* The left side is the y-axis.\n",
    "* The bottom side is the x-axis.\n",
    "* The top side is across from the x-axis.\n",
    "* The right side is across from the y-axis.\n",
    "\n",
    "The parameters for enabling or disabling tick marks are conveniently named after the sides. To hide all of them, we need to pass in the following values for each parameter when we call `Axes.tick_params()`:\n",
    "\n",
    "* `bottom`: `\"off\"`\n",
    "* `top`: `\"off\"`\n",
    "* `left`: `\"off\"`\n",
    "* `right`: `\"off\"`\n",
    "\n",
    "**Instructions**\n",
    "* Generate 2 line charts in the same plotting area:\n",
    "    * One that visualizes the percentages of Biology degrees awarded to women over time. Set the line color to \"blue\" and the label to \"Women\". For answer checking purposes, make sure you start with this chart.\n",
    "    * One that visualizes the percentages of Biology degrees awarded to men over time. Set the line color to \"green\" and the label to \"Men\".\n",
    "* Remove all of the tick marks.\n",
    "* Set the title of the plot to \"Percentage of Biology Degrees Awarded By Gender\".\n",
    "* Generate a legend and place it in the \"upper right\" location.\n",
    "* Display the chart."
   ]
  },
  {
   "cell_type": "code",
   "execution_count": null,
   "metadata": {},
   "outputs": [],
   "source": [
    "# Write your code here"
   ]
  },
  {
   "cell_type": "markdown",
   "metadata": {},
   "source": [
    "With the axis tick marks gone, the data-ink ratio is improved and the chart looks much cleaner. In addition, the spines in the chart now are no longer necessary. When we're exploring data, the spines and the ticks complement each other to help us refer back to specific data points or ranges. When a viewer is viewing our chart and trying to understand the insight we're presenting, the ticks and spines can get in the way. As we mentioned earlier, chartjunk becomes much more noticeable when you have multiple plots in the same chart. By keeping the axis tick labels but not the spines or tick marks, we strike an appropriate balance between hiding chartjunk and making the data visible.\n",
    "\n",
    "In matplotlib, the spines are represented using the [matplotlib.spines.Spine class](https://matplotlib.org/api/spines_api.html). When we create an Axes instance, four Spine objects are created for us. If you run `print(ax.spines)`, you'll get back a dictionary of the Spine objects:\n",
    "\n",
    "`{'right': <matplotlib.spines.Spine object at 0x111089c18>, 'bottom': <matplotlib.spines.Spine object at 0x111060898>, 'top': <matplotlib.spines.Spine object at 0x1110606a0>, 'left': <matplotlib.spines.Spine object at 0x11107cd30>}`"
   ]
  },
  {
   "cell_type": "markdown",
   "metadata": {},
   "source": [
    "To hide all of the spines, we need to:\n",
    "\n",
    "* access each Spine object in the dictionary\n",
    "* call the Spine.set_visible() method\n",
    "* pass in the Boolean value False\n",
    "\n",
    "The following line of code removes the spines for the right axis:\n",
    "` ax.spines[\"right\"].set_visible(False) `\n",
    "\n",
    "**Instructions**\n",
    "\n",
    "Modify the code from the last screen. Select all of the lines in the code editor and press ctrl + / (PC) or ⌘ + / (Mac) to uncomment these lines so you can modify it.\n",
    "\n",
    "* Generate 2 line charts on the same plotting area:\n",
    "    * One that visualizes the percentages of Biology degrees awarded to women over time. Set the line color to \"blue\" and the label to \"Women\".\n",
    "    * One that visualizes the percentages of Biology degrees awarded to men over time. Set the line color to \"green\" and the label to \"Men\".\n",
    "* Remove all of the axis tick marks.\n",
    "* Hide all of the spines.\n",
    "* Set the title of the plot to \"Percentage of Biology Degrees Awarded By Gender\".\n",
    "* Generate a legend and place it in the \"upper right\" location.\n",
    "* Display the chart."
   ]
  },
  {
   "cell_type": "code",
   "execution_count": 9,
   "metadata": {},
   "outputs": [],
   "source": [
    "# fig, ax = plt.subplots()\n",
    "# ax.plot(women_degrees['Year'], women_degrees['Biology'], c='blue', label='Women')\n",
    "# ax.plot(women_degrees['Year'], 100-women_degrees['Biology'], c='green', label='Men')\n",
    "# ax.tick_params(bottom=\"off\", top=\"off\", left=\"off\", right=\"off\")\n",
    "\n",
    "# # Add your code here\n"
   ]
  },
  {
   "cell_type": "markdown",
   "metadata": {},
   "source": [
    "So far, matplotlib has set the limits automatically for each axis and this hasn't had any negative effect on communicating our story with data. If we want to generate charts to compare multiple degree categories, the axis ranges need to be consistent. Inconsistent data ranges can distort the story our charts are telling and fool the viewer.\n",
    "\n",
    "Edward Tufte often preaches that a good chart encourages comparison over just description. A good chart uses a consistent style for the elements that aren't directly conveying the data points. These elements are part of the non-data ink in the chart. By keeping the non-data ink as consistent as possible across multiple plots, differences in those elements stick out easily to the viewer. This is because our visual processing systems are excellent at discerning differences quickly and brings them to the front of our thought process. The similarities naturally fade to the back of our thought process.\n",
    "\n",
    "Let's generate line charts for four STEM degree categories on a grid to encourage comparison. Our instructions for generating the chart are cumbersome. Here's what the final chart looks like, so you can refer to it as you write your code:\n",
    "\n",
    "![](images/four_major_categories_plots.png)"
   ]
  },
  {
   "cell_type": "markdown",
   "metadata": {},
   "source": [
    "We have provided starter code as comments in the code editor. Select all of these lines and press ctrl + / (PC) or ⌘ + / (Mac) to uncomment these lines so you can use it.\n",
    "\n",
    "* Generate a line chart using the women and men percentages for `Biology` in the top left subplot.\n",
    "* Generate a line chart using the women and men percentages for `Computer Science` in the top right subplot.\n",
    "* Generate a line chart using the women and men percentages for `Engineering` in the bottom left subplot.\n",
    "* Generate a line chart using the women and men percentages for `Math and Statistics` in the bottom right subplot.\n",
    "* For all subplots:\n",
    "    * For the line chart visualizing female percentages, set the line color to `\"blue\"` and the label to `\"Women\"`.\n",
    "    * For the line chart visualizing male percentages, set the line color to `\"green\"` and the label to `\"Men\"`.\n",
    "    * Set the x-axis limit to range from `1968` to `2011`.\n",
    "    * Set the y-axis limit to range from `0` to `100`.\n",
    "    * Hide all of the spines and tick marks.\n",
    "    * Set the title of each subplot to the name of the major category (e.g. `\"Biology\"`, `\"Computer Science\"`).\n",
    "* Place a legend in the `upper right` corner of the bottom right subplot.\n",
    "* Display the plot."
   ]
  },
  {
   "cell_type": "code",
   "execution_count": 11,
   "metadata": {},
   "outputs": [],
   "source": [
    "# for sp in range(0,4):\n",
    "#     ax = fig.add_subplot(2,2,sp+1)\n",
    "#     ax.plot(women_degrees['Year'], women_degrees[major_cats[sp]], c='blue', label='Women')\n",
    "#     ax.plot(women_degrees['Year'], 100-women_degrees[major_cats[sp]], c='green', label='Men')\n",
    "#     # Add your code here."
   ]
  },
  {
   "cell_type": "code",
   "execution_count": null,
   "metadata": {},
   "outputs": [],
   "source": []
  }
 ],
 "metadata": {
  "kernelspec": {
   "display_name": "Python 3",
   "language": "python",
   "name": "python3"
  },
  "language_info": {
   "codemirror_mode": {
    "name": "ipython",
    "version": 3
   },
   "file_extension": ".py",
   "mimetype": "text/x-python",
   "name": "python",
   "nbconvert_exporter": "python",
   "pygments_lexer": "ipython3",
   "version": "3.6.9"
  }
 },
 "nbformat": 4,
 "nbformat_minor": 2
}
